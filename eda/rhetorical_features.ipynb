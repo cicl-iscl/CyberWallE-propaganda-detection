{
 "cells": [
  {
   "cell_type": "code",
   "execution_count": 12,
   "metadata": {},
   "outputs": [],
   "source": [
    "import pandas as pd\n",
    "from itertools import takewhile\n",
    "\n",
    "TRAIN_FILE = '../data/train-data-improved-sentiwordnet-arguingfullindiv.tsv'\n",
    "DEV_FILE = '../data/dev-improved-sentiwordnet-arguingfullindiv.tsv'\n",
    "\n",
    "with open(TRAIN_FILE, 'r', encoding='utf8') as f:\n",
    "    commentiter = takewhile(lambda s: s.startswith('#'), f)\n",
    "    comments = list(commentiter)\n",
    "df = pd.read_csv(TRAIN_FILE, sep='\\t', skiprows=len(comments), quoting=3)\n",
    "df = df.drop(columns=['label'])\n",
    "df2 = pd.read_csv(DEV_FILE, sep='\\t', skiprows=len(comments), quoting=3)\n",
    "df = df.append(df2, ignore_index=True)\n",
    "df = df.drop(columns=['arglex_intensifiers'])  # This is a macro but was also included in the strategy list. The bug has been fixed in the script!\n",
    "# df.head()"
   ]
  },
  {
   "cell_type": "code",
   "execution_count": 13,
   "metadata": {},
   "outputs": [
    {
     "data": {
      "text/plain": [
       "[(0, 'arglex_inyourshoes'),\n",
       " (4, 'arglex_doubt'),\n",
       " (14, 'arglex_rhetoricalquestion'),\n",
       " (19, 'arglex_conditionals'),\n",
       " (24, 'arglex_difficulty'),\n",
       " (72, 'arglex_wants'),\n",
       " (83, 'arglex_assessments'),\n",
       " (86, 'arglex_generalization'),\n",
       " (353, 'arglex_structure'),\n",
       " (376, 'arglex_possibility'),\n",
       " (382, 'arglex_authority'),\n",
       " (414, 'arglex_contrast'),\n",
       " (479, 'arglex_inconsistency'),\n",
       " (589, 'arglex_emphasis'),\n",
       " (590, 'arglex_priority'),\n",
       " (1753, 'arglex_necessity'),\n",
       " (5300, 'arglex_causation')]"
      ]
     },
     "execution_count": 13,
     "metadata": {},
     "output_type": "execute_result"
    }
   ],
   "source": [
    "arglex_features = [col for col in list(df) if col.startswith('arglex')]\n",
    "occurrences = []\n",
    "for f in arglex_features:\n",
    "    occurrences.append((getattr(df, f).sum(), f))\n",
    "occurrences.sort()\n",
    "occurrences"
   ]
  }
 ],
 "metadata": {
  "kernelspec": {
   "display_name": "Python [conda env:env]",
   "language": "python",
   "name": "conda-env-env-py"
  },
  "language_info": {
   "codemirror_mode": {
    "name": "ipython",
    "version": 3
   },
   "file_extension": ".py",
   "mimetype": "text/x-python",
   "name": "python",
   "nbconvert_exporter": "python",
   "pygments_lexer": "ipython3",
   "version": "3.7.2"
  }
 },
 "nbformat": 4,
 "nbformat_minor": 2
}
