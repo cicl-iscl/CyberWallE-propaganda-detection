{
  "nbformat": 4,
  "nbformat_minor": 0,
  "metadata": {
    "colab": {
      "name": "baseline-bilstm",
      "provenance": [],
      "collapsed_sections": [
        "_nb1HZ4VGkDI",
        "JR09KbvE9V4l",
        "z-mWfrBz9VYe"
      ],
      "toc_visible": true
    },
    "kernelspec": {
      "name": "python3",
      "display_name": "Python 3"
    },
    "accelerator": "GPU"
  },
  "cells": [
    {
      "cell_type": "markdown",
      "metadata": {
        "id": "VubK6qZQUmeM",
        "colab_type": "text"
      },
      "source": [
        "# Challenges in NLP, WS19/20\n",
        "\n",
        "Blaschke Verena, ISCL MA<br/>\n",
        "Korniyenko Maxim, ISCL MA<br/>\n",
        "Tureski Sam, ML MA<br/>\n",
        "\n",
        "-----\n",
        "## Baseline model for Span Identification task\n",
        "-----\n",
        "\n",
        "The working process looks like the following:\n",
        "- Data preparation.\n",
        "- Creating the model.\n",
        "- Training the model.\n",
        "- Testing the model."
      ]
    },
    {
      "cell_type": "code",
      "metadata": {
        "id": "KSkNNNrI9ZxW",
        "colab_type": "code",
        "outputId": "1a28e28e-7e08-4067-f47c-6986138c8850",
        "colab": {
          "base_uri": "https://localhost:8080/",
          "height": 79
        }
      },
      "source": [
        "from google.colab import drive\n",
        "\n",
        "import pandas as pd\n",
        "import numpy as np\n",
        "import collections\n",
        "from enum import Enum\n",
        "\n",
        "# Creating the model\n",
        "from keras.layers import Bidirectional, CuDNNLSTM, Dense, Dropout, TimeDistributed\n",
        "from keras.models import Sequential\n",
        "\n",
        "# Results analysis\n",
        "from sklearn.model_selection import train_test_split\n",
        "from sklearn.metrics import classification_report, confusion_matrix, f1_score"
      ],
      "execution_count": 1,
      "outputs": [
        {
          "output_type": "stream",
          "text": [
            "Using TensorFlow backend.\n"
          ],
          "name": "stderr"
        },
        {
          "output_type": "display_data",
          "data": {
            "text/html": [
              "<p style=\"color: red;\">\n",
              "The default version of TensorFlow in Colab will soon switch to TensorFlow 2.x.<br>\n",
              "We recommend you <a href=\"https://www.tensorflow.org/guide/migrate\" target=\"_blank\">upgrade</a> now \n",
              "or ensure your notebook will continue to use TensorFlow 1.x via the <code>%tensorflow_version 1.x</code> magic:\n",
              "<a href=\"https://colab.research.google.com/notebooks/tensorflow_version.ipynb\" target=\"_blank\">more info</a>.</p>\n"
            ],
            "text/plain": [
              "<IPython.core.display.HTML object>"
            ]
          },
          "metadata": {
            "tags": []
          }
        }
      ]
    },
    {
      "cell_type": "code",
      "metadata": {
        "id": "jlVCNsD2-rfa",
        "colab_type": "code",
        "colab": {}
      },
      "source": [
        "# installing tools for oversampling\n",
        "# !pip install -U imbalanced-learn"
      ],
      "execution_count": 0,
      "outputs": []
    },
    {
      "cell_type": "markdown",
      "metadata": {
        "id": "ttjmy-nhWB4r",
        "colab_type": "text"
      },
      "source": [
        "#1. Data preparation\n",
        "\n",
        "Deciding on the data preprocessing type"
      ]
    },
    {
      "cell_type": "code",
      "metadata": {
        "id": "_-63v24fJ0dB",
        "colab_type": "code",
        "colab": {}
      },
      "source": [
        "class InputType(Enum):\n",
        "    BASELINE = 1\n",
        "    IMPROVED = 2\n",
        "\n",
        "input_type = InputType.IMPROVED"
      ],
      "execution_count": 0,
      "outputs": []
    },
    {
      "cell_type": "markdown",
      "metadata": {
        "id": "TgRlLi2IAb3U",
        "colab_type": "text"
      },
      "source": [
        "Reading the data from the file and storing it in a data frame"
      ]
    },
    {
      "cell_type": "code",
      "metadata": {
        "id": "1ORZhvz69htt",
        "colab_type": "code",
        "colab": {
          "base_uri": "https://localhost:8080/",
          "height": 195
        },
        "outputId": "157afd2f-cdb2-4ae8-f877-ef50335e398e"
      },
      "source": [
        "if input_type == InputType.IMPROVED:\n",
        "  train_url = 'https://raw.githubusercontent.com/cicl-iscl/CyberWallE/master/data/train-data-bio-improved.tsv?token=AD7GEDJXECH44VAMQAIRA7S54WBLU'\n",
        "elif input_type == InputType.BASELINE:\n",
        "  train_url = 'https://raw.githubusercontent.com/cicl-iscl/CyberWallE/master/data/train-data-bio-baseline.tsv?token=AF75TYYBV4BIFHV3R5VNB2C537DZO'\n",
        "\n",
        "train_df = pd.read_csv(train_url, sep='\\t',names=[\"document_id\", \"sent_number\",\"idx_token_beginning\", \"idx_token_end\", \"token\",\"bio_label\"], quoting = 3)\n",
        "train_df.head()"
      ],
      "execution_count": 11,
      "outputs": [
        {
          "output_type": "execute_result",
          "data": {
            "text/html": [
              "<div>\n",
              "<style scoped>\n",
              "    .dataframe tbody tr th:only-of-type {\n",
              "        vertical-align: middle;\n",
              "    }\n",
              "\n",
              "    .dataframe tbody tr th {\n",
              "        vertical-align: top;\n",
              "    }\n",
              "\n",
              "    .dataframe thead th {\n",
              "        text-align: right;\n",
              "    }\n",
              "</style>\n",
              "<table border=\"1\" class=\"dataframe\">\n",
              "  <thead>\n",
              "    <tr style=\"text-align: right;\">\n",
              "      <th></th>\n",
              "      <th>document_id</th>\n",
              "      <th>sent_number</th>\n",
              "      <th>idx_token_beginning</th>\n",
              "      <th>idx_token_end</th>\n",
              "      <th>token</th>\n",
              "      <th>bio_label</th>\n",
              "    </tr>\n",
              "  </thead>\n",
              "  <tbody>\n",
              "    <tr>\n",
              "      <th>0</th>\n",
              "      <td>111111111</td>\n",
              "      <td>1</td>\n",
              "      <td>0</td>\n",
              "      <td>4</td>\n",
              "      <td>Next</td>\n",
              "      <td>O</td>\n",
              "    </tr>\n",
              "    <tr>\n",
              "      <th>1</th>\n",
              "      <td>111111111</td>\n",
              "      <td>1</td>\n",
              "      <td>5</td>\n",
              "      <td>11</td>\n",
              "      <td>plague</td>\n",
              "      <td>O</td>\n",
              "    </tr>\n",
              "    <tr>\n",
              "      <th>2</th>\n",
              "      <td>111111111</td>\n",
              "      <td>1</td>\n",
              "      <td>12</td>\n",
              "      <td>20</td>\n",
              "      <td>outbreak</td>\n",
              "      <td>O</td>\n",
              "    </tr>\n",
              "    <tr>\n",
              "      <th>3</th>\n",
              "      <td>111111111</td>\n",
              "      <td>1</td>\n",
              "      <td>21</td>\n",
              "      <td>23</td>\n",
              "      <td>in</td>\n",
              "      <td>O</td>\n",
              "    </tr>\n",
              "    <tr>\n",
              "      <th>4</th>\n",
              "      <td>111111111</td>\n",
              "      <td>1</td>\n",
              "      <td>24</td>\n",
              "      <td>34</td>\n",
              "      <td>Madagascar</td>\n",
              "      <td>O</td>\n",
              "    </tr>\n",
              "  </tbody>\n",
              "</table>\n",
              "</div>"
            ],
            "text/plain": [
              "   document_id  sent_number  ...       token  bio_label\n",
              "0    111111111            1  ...        Next          O\n",
              "1    111111111            1  ...      plague          O\n",
              "2    111111111            1  ...    outbreak          O\n",
              "3    111111111            1  ...          in          O\n",
              "4    111111111            1  ...  Madagascar          O\n",
              "\n",
              "[5 rows x 6 columns]"
            ]
          },
          "metadata": {
            "tags": []
          },
          "execution_count": 11
        }
      ]
    },
    {
      "cell_type": "markdown",
      "metadata": {
        "id": "xHqbQCKKFjHo",
        "colab_type": "text"
      },
      "source": [
        "Getting the data frame with sentences and saving tokens to the list"
      ]
    },
    {
      "cell_type": "code",
      "metadata": {
        "id": "TTMwJaN0Essg",
        "colab_type": "code",
        "colab": {}
      },
      "source": [
        "def get_sentence_list(input_df):\n",
        "  df_sents = input_df.groupby('sent_number')['token'].apply(list)\n",
        "  df_sents = df_sents.to_frame()\n",
        "  df_sents['sent_number'] = df_sents.index\n",
        "  df_sents[\"sentences\"]= df_sents[\"token\"].str.join(\" \")\n",
        "  sentence_list = df_sents[\"token\"].to_list()\n",
        "  return sentence_list"
      ],
      "execution_count": 0,
      "outputs": []
    },
    {
      "cell_type": "code",
      "metadata": {
        "id": "Jj4lhGpfzX7O",
        "colab_type": "code",
        "colab": {}
      },
      "source": [
        "train_sentence_list = get_sentence_list(train_df)"
      ],
      "execution_count": 0,
      "outputs": []
    },
    {
      "cell_type": "markdown",
      "metadata": {
        "id": "u4akrSXlF6Nk",
        "colab_type": "text"
      },
      "source": [
        "Getting the data frame with labels and them to the list\n"
      ]
    },
    {
      "cell_type": "code",
      "metadata": {
        "id": "dRor6_kiFvc1",
        "colab_type": "code",
        "colab": {}
      },
      "source": [
        "def get_bio_sent_list(input_df):\n",
        "  df_labels = input_df.groupby('sent_number')['bio_label'].apply(list)\n",
        "  df_labels = df_labels.to_frame()\n",
        "  bio_sent_list = df_labels[\"bio_label\"].to_list()\n",
        "  return bio_sent_list"
      ],
      "execution_count": 0,
      "outputs": []
    },
    {
      "cell_type": "code",
      "metadata": {
        "id": "Pml6EzXRGiV2",
        "colab_type": "code",
        "colab": {}
      },
      "source": [
        "train_bio_sent_list = get_bio_sent_list(train_df)"
      ],
      "execution_count": 0,
      "outputs": []
    },
    {
      "cell_type": "markdown",
      "metadata": {
        "id": "mFczOPG1O0go",
        "colab_type": "text"
      },
      "source": [
        "## Encoding data"
      ]
    },
    {
      "cell_type": "code",
      "metadata": {
        "id": "R1W2oPTMG-n2",
        "colab_type": "code",
        "colab": {}
      },
      "source": [
        "MAX_SEQUENCE_LENGTH = 35"
      ],
      "execution_count": 0,
      "outputs": []
    },
    {
      "cell_type": "markdown",
      "metadata": {
        "id": "G-HxXV8BHMuA",
        "colab_type": "text"
      },
      "source": [
        "#### Encoding features"
      ]
    },
    {
      "cell_type": "markdown",
      "metadata": {
        "id": "MCS3v6NgWkvO",
        "colab_type": "text"
      },
      "source": [
        "Reading the glove embeddings from the file."
      ]
    },
    {
      "cell_type": "code",
      "metadata": {
        "id": "61OlM1uZHtMr",
        "colab_type": "code",
        "outputId": "42e3b11c-ee78-4438-9198-23e5b8152a6f",
        "colab": {
          "base_uri": "https://localhost:8080/",
          "height": 121
        }
      },
      "source": [
        "drive.mount('/content/gdrive')"
      ],
      "execution_count": 17,
      "outputs": [
        {
          "output_type": "stream",
          "text": [
            "Go to this URL in a browser: https://accounts.google.com/o/oauth2/auth?client_id=947318989803-6bn6qk8qdgf4n4g3pfee6491hc0brc4i.apps.googleusercontent.com&redirect_uri=urn%3aietf%3awg%3aoauth%3a2.0%3aoob&response_type=code&scope=email%20https%3a%2f%2fwww.googleapis.com%2fauth%2fdocs.test%20https%3a%2f%2fwww.googleapis.com%2fauth%2fdrive%20https%3a%2f%2fwww.googleapis.com%2fauth%2fdrive.photos.readonly%20https%3a%2f%2fwww.googleapis.com%2fauth%2fpeopleapi.readonly\n",
            "\n",
            "Enter your authorization code:\n",
            "··········\n",
            "Mounted at /content/gdrive\n"
          ],
          "name": "stdout"
        }
      ]
    },
    {
      "cell_type": "code",
      "metadata": {
        "id": "6Ab1jvz0H6hV",
        "colab_type": "code",
        "outputId": "052931fe-9b4e-4afb-cc2e-a5e9d116b878",
        "colab": {
          "base_uri": "https://localhost:8080/",
          "height": 34
        }
      },
      "source": [
        "embeddings_index = {}\n",
        "file_path = 'gdrive/My Drive/colab_projects/data/glove.6B.100d.txt'\n",
        "f = open(file_path)\n",
        "for line in f:\n",
        "    values = line.split()\n",
        "    word = values[0]\n",
        "    coefs = np.asarray(values[1:], dtype='float32')\n",
        "    embeddings_index[word] = coefs\n",
        "f.close()\n",
        "\n",
        "print('Found %s word vectors.' % len(embeddings_index))"
      ],
      "execution_count": 18,
      "outputs": [
        {
          "output_type": "stream",
          "text": [
            "Found 400000 word vectors.\n"
          ],
          "name": "stdout"
        }
      ]
    },
    {
      "cell_type": "code",
      "metadata": {
        "id": "M3Ilf4oCz_Cw",
        "colab_type": "code",
        "colab": {}
      },
      "source": [
        "EMBEDDING_DIM = 100"
      ],
      "execution_count": 0,
      "outputs": []
    },
    {
      "cell_type": "code",
      "metadata": {
        "id": "GOIFqkxbHJfm",
        "colab_type": "code",
        "colab": {}
      },
      "source": [
        "def get_X(sentence_list, \n",
        "          max_sequence_length,\n",
        "          embedding_dim):\n",
        "  # first create a matrix of zeros, this is our embedding matrix\n",
        "  embedding_matrix = np.zeros([len(sentence_list), max_sequence_length, embedding_dim])\n",
        "  # for each word in out tokenizer lets try to find that work in our w2v model\n",
        "  for i, sentence in enumerate(sentence_list):\n",
        "    for j, word in enumerate(sentence_list[i]):\n",
        "      if j > max_sequence_length:\n",
        "          #Split these longer sentences later\n",
        "          continue\n",
        "      embedding_vector = embeddings_index.get(word)\n",
        "      if embedding_vector is not None:\n",
        "          # we found the word - add that words vector to the matrix\n",
        "          embedding_matrix[i] = embedding_vector\n",
        "      else:\n",
        "          # doesn't exist, assign a random vector\n",
        "          embedding_matrix[i] = np.random.randn(embedding_dim)\n",
        "  return embedding_matrix"
      ],
      "execution_count": 0,
      "outputs": []
    },
    {
      "cell_type": "code",
      "metadata": {
        "id": "4mPJx2gI0f5j",
        "colab_type": "code",
        "colab": {}
      },
      "source": [
        "train_features = get_X(sentence_list=train_sentence_list,\n",
        "                       max_sequence_length=MAX_SEQUENCE_LENGTH,\n",
        "                       embedding_dim=EMBEDDING_DIM)"
      ],
      "execution_count": 0,
      "outputs": []
    },
    {
      "cell_type": "markdown",
      "metadata": {
        "id": "_nb1HZ4VGkDI",
        "colab_type": "text"
      },
      "source": [
        "#### Encoding labels"
      ]
    },
    {
      "cell_type": "code",
      "metadata": {
        "id": "yxuy8104Xpbm",
        "colab_type": "code",
        "colab": {}
      },
      "source": [
        "# the following parameters should be changed\n",
        "# if we switch back to three labels\n",
        "label2idx = {\"O\": [1, 0, 0], \"B\": [0, 1, 0], \"I\": [0, 0, 1]}\n",
        "N_CLASSES = 3"
      ],
      "execution_count": 0,
      "outputs": []
    },
    {
      "cell_type": "code",
      "metadata": {
        "id": "Ee6N07KeGoZN",
        "colab_type": "code",
        "colab": {}
      },
      "source": [
        "def get_y(sentence_list, \n",
        "          bio_sent_list,\n",
        "          label_dict, \n",
        "          max_sequence_length, \n",
        "          n_classes):\n",
        "  # first create a matrix of zeros, this is our embedding matrix\n",
        "  labels = np.zeros([len(sentence_list), max_sequence_length, n_classes])\n",
        "  # for each word in out tokenizer lets try to find that work in our w2v model\n",
        "  for i, sentence in enumerate(sentence_list):\n",
        "    for j, word in enumerate(bio_sent_list[i]):\n",
        "      if j < max_sequence_length:\n",
        "        labels[i][j] = label_dict.get(word)\n",
        "      else:\n",
        "        break\n",
        "  return labels"
      ],
      "execution_count": 0,
      "outputs": []
    },
    {
      "cell_type": "code",
      "metadata": {
        "id": "G5gi1Fjc1bP6",
        "colab_type": "code",
        "colab": {}
      },
      "source": [
        "y = get_y(sentence_list=train_sentence_list,\n",
        "          bio_sent_list=train_bio_sent_list,\n",
        "          label_dict=label2idx,\n",
        "          max_sequence_length=MAX_SEQUENCE_LENGTH,\n",
        "          n_classes=N_CLASSES)"
      ],
      "execution_count": 0,
      "outputs": []
    },
    {
      "cell_type": "markdown",
      "metadata": {
        "id": "1hfh7R2LVt17",
        "colab_type": "text"
      },
      "source": [
        "BONUS: Some attempts of applying oversampling"
      ]
    },
    {
      "cell_type": "code",
      "metadata": {
        "id": "HtsnOWMA_ycN",
        "colab_type": "code",
        "colab": {}
      },
      "source": [
        "# from imblearn.over_sampling import SMOTE\n",
        "\n",
        "# smote = SMOTE(ratio='minority')\n",
        "# y_train=y_train.astype('int')\n",
        "# print(y_train[0])\n",
        "# rows = y_train.shape[0]\n",
        "# y_train = y_train.reshape(-1, n_classes).argmax(axis=1).flatten()\n",
        "# print(y_train.shape)\n",
        "# X_train = X_train.reshape(rows, MAX_SEQUENCE_LENGTH, 100).reshape(-1, 100)\n",
        "# print(X_train.shape)\n",
        "# X_sm, y_sm = smote.fit_sample(X_train, y_train)"
      ],
      "execution_count": 0,
      "outputs": []
    },
    {
      "cell_type": "markdown",
      "metadata": {
        "id": "KQntrhwhW0Lo",
        "colab_type": "text"
      },
      "source": [
        "# 2. Creating the model"
      ]
    },
    {
      "cell_type": "code",
      "metadata": {
        "id": "KuzEvEcGI1xd",
        "colab_type": "code",
        "outputId": "55b4da8e-0893-4d92-b4fb-7fbbbe3077d2",
        "colab": {
          "base_uri": "https://localhost:8080/",
          "height": 541
        }
      },
      "source": [
        "model = Sequential()\n",
        "\n",
        "model.add(Bidirectional(CuDNNLSTM(512, return_sequences=True), input_shape=(MAX_SEQUENCE_LENGTH, EMBEDDING_DIM)))\n",
        "model.add(Dropout(0.25))\n",
        "\n",
        "model.add(TimeDistributed(Dense(N_CLASSES, activation='softmax')))\n",
        "\n",
        "model.compile(loss = 'categorical_crossentropy', optimizer='adam',metrics = ['categorical_accuracy'])\n",
        "print(model.summary())"
      ],
      "execution_count": 25,
      "outputs": [
        {
          "output_type": "stream",
          "text": [
            "WARNING:tensorflow:From /usr/local/lib/python3.6/dist-packages/keras/backend/tensorflow_backend.py:66: The name tf.get_default_graph is deprecated. Please use tf.compat.v1.get_default_graph instead.\n",
            "\n",
            "WARNING:tensorflow:From /usr/local/lib/python3.6/dist-packages/keras/backend/tensorflow_backend.py:541: The name tf.placeholder is deprecated. Please use tf.compat.v1.placeholder instead.\n",
            "\n",
            "WARNING:tensorflow:From /usr/local/lib/python3.6/dist-packages/keras/backend/tensorflow_backend.py:4432: The name tf.random_uniform is deprecated. Please use tf.random.uniform instead.\n",
            "\n",
            "WARNING:tensorflow:From /usr/local/lib/python3.6/dist-packages/keras/backend/tensorflow_backend.py:148: The name tf.placeholder_with_default is deprecated. Please use tf.compat.v1.placeholder_with_default instead.\n",
            "\n",
            "WARNING:tensorflow:From /usr/local/lib/python3.6/dist-packages/keras/backend/tensorflow_backend.py:3733: calling dropout (from tensorflow.python.ops.nn_ops) with keep_prob is deprecated and will be removed in a future version.\n",
            "Instructions for updating:\n",
            "Please use `rate` instead of `keep_prob`. Rate should be set to `rate = 1 - keep_prob`.\n",
            "WARNING:tensorflow:From /usr/local/lib/python3.6/dist-packages/keras/optimizers.py:793: The name tf.train.Optimizer is deprecated. Please use tf.compat.v1.train.Optimizer instead.\n",
            "\n",
            "WARNING:tensorflow:From /usr/local/lib/python3.6/dist-packages/keras/backend/tensorflow_backend.py:3576: The name tf.log is deprecated. Please use tf.math.log instead.\n",
            "\n",
            "Model: \"sequential_1\"\n",
            "_________________________________________________________________\n",
            "Layer (type)                 Output Shape              Param #   \n",
            "=================================================================\n",
            "bidirectional_1 (Bidirection (None, 35, 1024)          2514944   \n",
            "_________________________________________________________________\n",
            "dropout_1 (Dropout)          (None, 35, 1024)          0         \n",
            "_________________________________________________________________\n",
            "time_distributed_1 (TimeDist (None, 35, 3)             3075      \n",
            "=================================================================\n",
            "Total params: 2,518,019\n",
            "Trainable params: 2,518,019\n",
            "Non-trainable params: 0\n",
            "_________________________________________________________________\n",
            "None\n"
          ],
          "name": "stdout"
        }
      ]
    },
    {
      "cell_type": "markdown",
      "metadata": {
        "id": "9-1dXcmbXCUc",
        "colab_type": "text"
      },
      "source": [
        "# 3. Training the model."
      ]
    },
    {
      "cell_type": "markdown",
      "metadata": {
        "id": "JR09KbvE9V4l",
        "colab_type": "text"
      },
      "source": [
        "#### Training using all of the data. "
      ]
    },
    {
      "cell_type": "code",
      "metadata": {
        "id": "TXQH38939TCJ",
        "colab_type": "code",
        "outputId": "91862e09-b49b-4724-980e-d91397524d3e",
        "colab": {
          "base_uri": "https://localhost:8080/",
          "height": 709
        }
      },
      "source": [
        "batch_size = 128\n",
        "history = model.fit(train_features, y, epochs=10, batch_size=batch_size, verbose=1, validation_split=0.1)"
      ],
      "execution_count": 26,
      "outputs": [
        {
          "output_type": "stream",
          "text": [
            "WARNING:tensorflow:From /usr/local/lib/python3.6/dist-packages/tensorflow_core/python/ops/math_grad.py:1424: where (from tensorflow.python.ops.array_ops) is deprecated and will be removed in a future version.\n",
            "Instructions for updating:\n",
            "Use tf.where in 2.0, which has the same broadcast rule as np.where\n",
            "WARNING:tensorflow:From /usr/local/lib/python3.6/dist-packages/keras/backend/tensorflow_backend.py:1033: The name tf.assign_add is deprecated. Please use tf.compat.v1.assign_add instead.\n",
            "\n",
            "WARNING:tensorflow:From /usr/local/lib/python3.6/dist-packages/keras/backend/tensorflow_backend.py:1020: The name tf.assign is deprecated. Please use tf.compat.v1.assign instead.\n",
            "\n",
            "WARNING:tensorflow:From /usr/local/lib/python3.6/dist-packages/keras/backend/tensorflow_backend.py:3005: The name tf.Session is deprecated. Please use tf.compat.v1.Session instead.\n",
            "\n",
            "Train on 14097 samples, validate on 1567 samples\n",
            "Epoch 1/10\n",
            "WARNING:tensorflow:From /usr/local/lib/python3.6/dist-packages/keras/backend/tensorflow_backend.py:190: The name tf.get_default_session is deprecated. Please use tf.compat.v1.get_default_session instead.\n",
            "\n",
            "WARNING:tensorflow:From /usr/local/lib/python3.6/dist-packages/keras/backend/tensorflow_backend.py:197: The name tf.ConfigProto is deprecated. Please use tf.compat.v1.ConfigProto instead.\n",
            "\n",
            "WARNING:tensorflow:From /usr/local/lib/python3.6/dist-packages/keras/backend/tensorflow_backend.py:207: The name tf.global_variables is deprecated. Please use tf.compat.v1.global_variables instead.\n",
            "\n",
            "WARNING:tensorflow:From /usr/local/lib/python3.6/dist-packages/keras/backend/tensorflow_backend.py:216: The name tf.is_variable_initialized is deprecated. Please use tf.compat.v1.is_variable_initialized instead.\n",
            "\n",
            "WARNING:tensorflow:From /usr/local/lib/python3.6/dist-packages/keras/backend/tensorflow_backend.py:223: The name tf.variables_initializer is deprecated. Please use tf.compat.v1.variables_initializer instead.\n",
            "\n",
            "14097/14097 [==============================] - 15s 1ms/step - loss: 0.2809 - categorical_accuracy: 0.9138 - val_loss: 0.3209 - val_categorical_accuracy: 0.8981\n",
            "Epoch 2/10\n",
            "14097/14097 [==============================] - 8s 563us/step - loss: 0.2584 - categorical_accuracy: 0.9241 - val_loss: 0.3041 - val_categorical_accuracy: 0.8981\n",
            "Epoch 3/10\n",
            "14097/14097 [==============================] - 8s 563us/step - loss: 0.2556 - categorical_accuracy: 0.9244 - val_loss: 0.3170 - val_categorical_accuracy: 0.8978\n",
            "Epoch 4/10\n",
            "14097/14097 [==============================] - 8s 570us/step - loss: 0.2534 - categorical_accuracy: 0.9246 - val_loss: 0.3195 - val_categorical_accuracy: 0.8976\n",
            "Epoch 5/10\n",
            "14097/14097 [==============================] - 8s 572us/step - loss: 0.2519 - categorical_accuracy: 0.9247 - val_loss: 0.3195 - val_categorical_accuracy: 0.8980\n",
            "Epoch 6/10\n",
            "14097/14097 [==============================] - 8s 572us/step - loss: 0.2502 - categorical_accuracy: 0.9248 - val_loss: 0.3298 - val_categorical_accuracy: 0.8969\n",
            "Epoch 7/10\n",
            "14097/14097 [==============================] - 8s 571us/step - loss: 0.2493 - categorical_accuracy: 0.9250 - val_loss: 0.3309 - val_categorical_accuracy: 0.8964\n",
            "Epoch 8/10\n",
            "14097/14097 [==============================] - 8s 575us/step - loss: 0.2480 - categorical_accuracy: 0.9253 - val_loss: 0.3196 - val_categorical_accuracy: 0.8978\n",
            "Epoch 9/10\n",
            "14097/14097 [==============================] - 8s 568us/step - loss: 0.2477 - categorical_accuracy: 0.9252 - val_loss: 0.3334 - val_categorical_accuracy: 0.8967\n",
            "Epoch 10/10\n",
            "14097/14097 [==============================] - 8s 572us/step - loss: 0.2460 - categorical_accuracy: 0.9258 - val_loss: 0.3359 - val_categorical_accuracy: 0.8977\n"
          ],
          "name": "stdout"
        }
      ]
    },
    {
      "cell_type": "markdown",
      "metadata": {
        "id": "z-mWfrBz9VYe",
        "colab_type": "text"
      },
      "source": [
        "#### Training using only some part of the data. For testing the model."
      ]
    },
    {
      "cell_type": "markdown",
      "metadata": {
        "id": "XuMc4OyuIgvc",
        "colab_type": "text"
      },
      "source": [
        "Splitting the data"
      ]
    },
    {
      "cell_type": "code",
      "metadata": {
        "id": "oR_IlvbMIgWl",
        "colab_type": "code",
        "colab": {}
      },
      "source": [
        "test_split = True"
      ],
      "execution_count": 0,
      "outputs": []
    },
    {
      "cell_type": "code",
      "metadata": {
        "id": "uJm_cXYpI_Qy",
        "colab_type": "code",
        "colab": {
          "base_uri": "https://localhost:8080/",
          "height": 390
        },
        "outputId": "50f018c9-730c-495e-94c8-b4be1e95e013"
      },
      "source": [
        "if test_split:\n",
        "  X_train, X_test, y_train, y_test = train_test_split(train_features, y, test_size=0.1)\n",
        "  history = model.fit(X_train, y_train, epochs=10, batch_size=batch_size, verbose=1, validation_split=0.1)"
      ],
      "execution_count": 42,
      "outputs": [
        {
          "output_type": "stream",
          "text": [
            "Train on 12687 samples, validate on 1410 samples\n",
            "Epoch 1/10\n",
            "12687/12687 [==============================] - 7s 585us/step - loss: 0.2542 - categorical_accuracy: 0.9225 - val_loss: 0.2586 - val_categorical_accuracy: 0.9221\n",
            "Epoch 2/10\n",
            "12687/12687 [==============================] - 7s 577us/step - loss: 0.2508 - categorical_accuracy: 0.9231 - val_loss: 0.2605 - val_categorical_accuracy: 0.9211\n",
            "Epoch 3/10\n",
            "12687/12687 [==============================] - 7s 576us/step - loss: 0.2499 - categorical_accuracy: 0.9234 - val_loss: 0.2583 - val_categorical_accuracy: 0.9211\n",
            "Epoch 4/10\n",
            "12687/12687 [==============================] - 7s 573us/step - loss: 0.2476 - categorical_accuracy: 0.9240 - val_loss: 0.2614 - val_categorical_accuracy: 0.9201\n",
            "Epoch 5/10\n",
            "12687/12687 [==============================] - 7s 576us/step - loss: 0.2453 - categorical_accuracy: 0.9250 - val_loss: 0.2641 - val_categorical_accuracy: 0.9199\n",
            "Epoch 6/10\n",
            "12687/12687 [==============================] - 7s 575us/step - loss: 0.2454 - categorical_accuracy: 0.9251 - val_loss: 0.2659 - val_categorical_accuracy: 0.9197\n",
            "Epoch 7/10\n",
            "12687/12687 [==============================] - 7s 573us/step - loss: 0.2432 - categorical_accuracy: 0.9258 - val_loss: 0.2686 - val_categorical_accuracy: 0.9180\n",
            "Epoch 8/10\n",
            "12687/12687 [==============================] - 7s 575us/step - loss: 0.2434 - categorical_accuracy: 0.9256 - val_loss: 0.2710 - val_categorical_accuracy: 0.9196\n",
            "Epoch 9/10\n",
            "12687/12687 [==============================] - 7s 577us/step - loss: 0.2417 - categorical_accuracy: 0.9259 - val_loss: 0.2712 - val_categorical_accuracy: 0.9170\n",
            "Epoch 10/10\n",
            "12687/12687 [==============================] - 7s 571us/step - loss: 0.2416 - categorical_accuracy: 0.9262 - val_loss: 0.2919 - val_categorical_accuracy: 0.9128\n"
          ],
          "name": "stdout"
        }
      ]
    },
    {
      "cell_type": "markdown",
      "metadata": {
        "id": "Cav1kjGKJlF5",
        "colab_type": "text"
      },
      "source": [
        "# 4. Testing the model"
      ]
    },
    {
      "cell_type": "code",
      "metadata": {
        "id": "vwPw0MN_Jnn3",
        "colab_type": "code",
        "colab": {
          "base_uri": "https://localhost:8080/",
          "height": 87
        },
        "outputId": "d33e3fdc-7736-4d8d-b470-e088c0f3af55"
      },
      "source": [
        "if test_split:\n",
        "  y_hat = model.predict(X_test)\n",
        "  y_hat_flat = y_hat.reshape(-1, N_CLASSES).argmax(axis=1)\n",
        "  y_test_flat = y_test.reshape(-1, N_CLASSES).argmax(axis=1)\n",
        "  print(f1_score(y_hat_flat, y_test_flat, average=\"macro\"))"
      ],
      "execution_count": 45,
      "outputs": [
        {
          "output_type": "stream",
          "text": [
            "0.35392193810572214\n"
          ],
          "name": "stdout"
        },
        {
          "output_type": "stream",
          "text": [
            "/usr/local/lib/python3.6/dist-packages/sklearn/metrics/classification.py:1439: UndefinedMetricWarning: F-score is ill-defined and being set to 0.0 in labels with no true samples.\n",
            "  'recall', 'true', average, warn_for)\n"
          ],
          "name": "stderr"
        }
      ]
    },
    {
      "cell_type": "markdown",
      "metadata": {
        "id": "EeVF7DgmXP2U",
        "colab_type": "text"
      },
      "source": [
        "Making the true and predicted labels flat for further analysis."
      ]
    },
    {
      "cell_type": "code",
      "metadata": {
        "id": "UrZ07ubESnL7",
        "colab_type": "code",
        "colab": {
          "base_uri": "https://localhost:8080/",
          "height": 289
        },
        "outputId": "09025cac-bd15-4052-e0d4-e916d35be20a"
      },
      "source": [
        "if test_split:\n",
        "  target_names = [\"O\", \"B\", \"I\"]\n",
        "  print(classification_report(y_test_flat, y_hat_flat, target_names=target_names))\n",
        "  print(confusion_matrix(y_true=y_test_flat, y_pred=y_hat_flat))"
      ],
      "execution_count": 44,
      "outputs": [
        {
          "output_type": "stream",
          "text": [
            "              precision    recall  f1-score   support\n",
            "\n",
            "           O       0.93      1.00      0.96     50666\n",
            "           B       0.00      0.00      0.00       494\n",
            "           I       0.46      0.06      0.10      3685\n",
            "\n",
            "    accuracy                           0.92     54845\n",
            "   macro avg       0.46      0.35      0.35     54845\n",
            "weighted avg       0.89      0.92      0.89     54845\n",
            "\n",
            "[[50423     0   243]\n",
            " [  487     0     7]\n",
            " [ 3474     0   211]]\n"
          ],
          "name": "stdout"
        },
        {
          "output_type": "stream",
          "text": [
            "/usr/local/lib/python3.6/dist-packages/sklearn/metrics/classification.py:1437: UndefinedMetricWarning: Precision and F-score are ill-defined and being set to 0.0 in labels with no predicted samples.\n",
            "  'precision', 'predicted', average, warn_for)\n"
          ],
          "name": "stderr"
        }
      ]
    },
    {
      "cell_type": "markdown",
      "metadata": {
        "id": "SLY5LLDu-aGd",
        "colab_type": "text"
      },
      "source": [
        "# 5. Getting predictions for development data"
      ]
    },
    {
      "cell_type": "markdown",
      "metadata": {
        "id": "TTcLhFOVKQrt",
        "colab_type": "text"
      },
      "source": [
        "Reading the development data frame"
      ]
    },
    {
      "cell_type": "code",
      "metadata": {
        "id": "x5nFG4sf-diO",
        "colab_type": "code",
        "colab": {}
      },
      "source": [
        "if input_type == InputType.IMPROVED:\n",
        "  dev_url = 'https://raw.githubusercontent.com/cicl-iscl/CyberWallE/master/data/dev-improved.tsv?token=AD7GEDK7D5VA3ADADCVIWHK54WCWM'\n",
        "elif input_type == InputType.BASELINE:\n",
        "  dev_url = 'https://raw.githubusercontent.com/cicl-iscl/CyberWallE/master/data/dev-baseline.tsv?token=AF75TY24Z3BQ7Q3XIJ4A4TC54BBQI'\n",
        "\n",
        "dev_df = pd.read_csv(dev_url, sep='\\t',names=[\"document_id\", \"sent_number\",\"idx_token_beginning\", \"idx_token_end\", \"token\"], quoting = 3)"
      ],
      "execution_count": 0,
      "outputs": []
    },
    {
      "cell_type": "markdown",
      "metadata": {
        "id": "r89uYLBWKWpE",
        "colab_type": "text"
      },
      "source": [
        "Getting the number of training instances (rows) in the data frame"
      ]
    },
    {
      "cell_type": "code",
      "metadata": {
        "id": "Iw-3mLDpFYAk",
        "colab_type": "code",
        "colab": {}
      },
      "source": [
        "n_rows_dev = dev_df.shape[0]"
      ],
      "execution_count": 0,
      "outputs": []
    },
    {
      "cell_type": "markdown",
      "metadata": {
        "id": "51ORuD09KkR9",
        "colab_type": "text"
      },
      "source": [
        "Preparing the dev data and making predictions"
      ]
    },
    {
      "cell_type": "code",
      "metadata": {
        "id": "-9tOrJ1D-u6j",
        "colab_type": "code",
        "colab": {}
      },
      "source": [
        "dev_sentence_list = get_sentence_list(dev_df)"
      ],
      "execution_count": 0,
      "outputs": []
    },
    {
      "cell_type": "code",
      "metadata": {
        "id": "YuiVsr7S-26t",
        "colab_type": "code",
        "colab": {}
      },
      "source": [
        "dev_features = get_X(sentence_list=dev_sentence_list,\n",
        "                     max_sequence_length=MAX_SEQUENCE_LENGTH,\n",
        "                     embedding_dim=EMBEDDING_DIM)"
      ],
      "execution_count": 0,
      "outputs": []
    },
    {
      "cell_type": "code",
      "metadata": {
        "id": "mxSwb0CM_Gnk",
        "colab_type": "code",
        "colab": {}
      },
      "source": [
        "y_hat = model.predict(dev_features)"
      ],
      "execution_count": 0,
      "outputs": []
    },
    {
      "cell_type": "markdown",
      "metadata": {
        "id": "EaJ4lsXhK8SV",
        "colab_type": "text"
      },
      "source": [
        "From one-hot encoding to integers"
      ]
    },
    {
      "cell_type": "code",
      "metadata": {
        "id": "uLVudMQZBm_J",
        "colab_type": "code",
        "colab": {}
      },
      "source": [
        "y_hat = y_hat.reshape(-1, N_CLASSES).argmax(axis=1).reshape(len(dev_sentence_list), MAX_SEQUENCE_LENGTH)"
      ],
      "execution_count": 0,
      "outputs": []
    },
    {
      "cell_type": "markdown",
      "metadata": {
        "id": "GtwvGRVyLFSP",
        "colab_type": "text"
      },
      "source": [
        "Mapping the predictions to the corresponding indeces in the dev data frame"
      ]
    },
    {
      "cell_type": "code",
      "metadata": {
        "id": "DiKKHORD_MtH",
        "colab_type": "code",
        "colab": {}
      },
      "source": [
        "def get_labels_vector(sentence_list,\n",
        "                      predicted_labels,\n",
        "                      max_sequence_length,\n",
        "                      n_rows):\n",
        "\n",
        "  labels_vector = []\n",
        "\n",
        "  for i, _ in enumerate(sentence_list):\n",
        "    for j, _ in enumerate(sentence_list[i]):\n",
        "      if predicted_labels[i][j] == 0:\n",
        "        label = \"O\"\n",
        "      elif predicted_labels[i][j] == 1:\n",
        "        label = \"B\"\n",
        "      else:\n",
        "        label = \"I\"\n",
        "      labels_vector.append(label)\n",
        "  return labels_vector"
      ],
      "execution_count": 0,
      "outputs": []
    },
    {
      "cell_type": "code",
      "metadata": {
        "id": "OXk0goGJIN-A",
        "colab_type": "code",
        "colab": {}
      },
      "source": [
        "predicted_labels_column = get_labels_vector(dev_sentence_list, \n",
        "                                            y_hat, \n",
        "                                            MAX_SEQUENCE_LENGTH,\n",
        "                                            n_rows_dev)"
      ],
      "execution_count": 0,
      "outputs": []
    },
    {
      "cell_type": "markdown",
      "metadata": {
        "id": "Hxkp3Uu6LdcT",
        "colab_type": "text"
      },
      "source": [
        "Concatenation of the original dev data frame and the prediction vector"
      ]
    },
    {
      "cell_type": "code",
      "metadata": {
        "id": "U1bCqoG2I-lK",
        "colab_type": "code",
        "colab": {}
      },
      "source": [
        "result_df = pd.concat([dev_df, pd.DataFrame(predicted_labels_column, columns=[\"bio_label\"])], axis=1, sort=False)"
      ],
      "execution_count": 0,
      "outputs": []
    },
    {
      "cell_type": "markdown",
      "metadata": {
        "id": "7xEvfqvyLlxk",
        "colab_type": "text"
      },
      "source": [
        "Overview of the results"
      ]
    },
    {
      "cell_type": "code",
      "metadata": {
        "id": "ReEg19naJJBd",
        "colab_type": "code",
        "outputId": "b3b7dbd5-a130-4052-d954-1313e358dca0",
        "colab": {
          "base_uri": "https://localhost:8080/",
          "height": 195
        }
      },
      "source": [
        "result_df.head()"
      ],
      "execution_count": 37,
      "outputs": [
        {
          "output_type": "execute_result",
          "data": {
            "text/html": [
              "<div>\n",
              "<style scoped>\n",
              "    .dataframe tbody tr th:only-of-type {\n",
              "        vertical-align: middle;\n",
              "    }\n",
              "\n",
              "    .dataframe tbody tr th {\n",
              "        vertical-align: top;\n",
              "    }\n",
              "\n",
              "    .dataframe thead th {\n",
              "        text-align: right;\n",
              "    }\n",
              "</style>\n",
              "<table border=\"1\" class=\"dataframe\">\n",
              "  <thead>\n",
              "    <tr style=\"text-align: right;\">\n",
              "      <th></th>\n",
              "      <th>document_id</th>\n",
              "      <th>sent_number</th>\n",
              "      <th>idx_token_beginning</th>\n",
              "      <th>idx_token_end</th>\n",
              "      <th>token</th>\n",
              "      <th>bio_label</th>\n",
              "    </tr>\n",
              "  </thead>\n",
              "  <tbody>\n",
              "    <tr>\n",
              "      <th>0</th>\n",
              "      <td>730081389</td>\n",
              "      <td>1</td>\n",
              "      <td>0</td>\n",
              "      <td>6</td>\n",
              "      <td>Police</td>\n",
              "      <td>O</td>\n",
              "    </tr>\n",
              "    <tr>\n",
              "      <th>1</th>\n",
              "      <td>730081389</td>\n",
              "      <td>1</td>\n",
              "      <td>7</td>\n",
              "      <td>10</td>\n",
              "      <td>had</td>\n",
              "      <td>O</td>\n",
              "    </tr>\n",
              "    <tr>\n",
              "      <th>2</th>\n",
              "      <td>730081389</td>\n",
              "      <td>1</td>\n",
              "      <td>11</td>\n",
              "      <td>21</td>\n",
              "      <td>previously</td>\n",
              "      <td>O</td>\n",
              "    </tr>\n",
              "    <tr>\n",
              "      <th>3</th>\n",
              "      <td>730081389</td>\n",
              "      <td>1</td>\n",
              "      <td>22</td>\n",
              "      <td>26</td>\n",
              "      <td>gone</td>\n",
              "      <td>O</td>\n",
              "    </tr>\n",
              "    <tr>\n",
              "      <th>4</th>\n",
              "      <td>730081389</td>\n",
              "      <td>1</td>\n",
              "      <td>27</td>\n",
              "      <td>29</td>\n",
              "      <td>to</td>\n",
              "      <td>O</td>\n",
              "    </tr>\n",
              "  </tbody>\n",
              "</table>\n",
              "</div>"
            ],
            "text/plain": [
              "   document_id  sent_number  ...       token  bio_label\n",
              "0    730081389            1  ...      Police          O\n",
              "1    730081389            1  ...         had          O\n",
              "2    730081389            1  ...  previously          O\n",
              "3    730081389            1  ...        gone          O\n",
              "4    730081389            1  ...          to          O\n",
              "\n",
              "[5 rows x 6 columns]"
            ]
          },
          "metadata": {
            "tags": []
          },
          "execution_count": 37
        }
      ]
    },
    {
      "cell_type": "code",
      "metadata": {
        "id": "9ETlCuf3Jj29",
        "colab_type": "code",
        "outputId": "1674e5a2-d85e-40f6-ad09-1188c4a6e430",
        "colab": {
          "base_uri": "https://localhost:8080/",
          "height": 67
        }
      },
      "source": [
        "result_df[\"bio_label\"].value_counts()"
      ],
      "execution_count": 38,
      "outputs": [
        {
          "output_type": "execute_result",
          "data": {
            "text/plain": [
              "O    67532\n",
              "I       32\n",
              "Name: bio_label, dtype: int64"
            ]
          },
          "metadata": {
            "tags": []
          },
          "execution_count": 38
        }
      ]
    },
    {
      "cell_type": "markdown",
      "metadata": {
        "id": "qzHxnLwkMytk",
        "colab_type": "text"
      },
      "source": [
        "Saving data frame to a file"
      ]
    },
    {
      "cell_type": "code",
      "metadata": {
        "id": "M9fMlY7BMyWH",
        "colab_type": "code",
        "colab": {}
      },
      "source": [
        "result_df.to_csv(path_or_buf=\"dev_predictions_bio.tsv\",\n",
        "                 sep=\"\\t\",\n",
        "                 header=False,\n",
        "                 index=False)"
      ],
      "execution_count": 0,
      "outputs": []
    },
    {
      "cell_type": "code",
      "metadata": {
        "id": "p3RJ_N88pUZP",
        "colab_type": "code",
        "colab": {}
      },
      "source": [
        ""
      ],
      "execution_count": 0,
      "outputs": []
    }
  ]
}