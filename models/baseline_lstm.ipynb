{
  "nbformat": 4,
  "nbformat_minor": 0,
  "metadata": {
    "colab": {
      "name": "baseline-bilstm",
      "provenance": [],
      "collapsed_sections": [],
      "toc_visible": true
    },
    "kernelspec": {
      "name": "python3",
      "display_name": "Python 3"
    },
    "accelerator": "GPU"
  },
  "cells": [
    {
      "cell_type": "markdown",
      "metadata": {
        "id": "VubK6qZQUmeM",
        "colab_type": "text"
      },
      "source": [
        "# Challenges in NLP, WS19/20\n",
        "\n",
        "Blaschke Verena, ISCL MA<br/>\n",
        "Korniyenko Maxim, ISCL MA<br/>\n",
        "Tureski Sam, ML MA<br/>\n",
        "\n",
        "-----\n",
        "## Baseline model for Span Identification task\n",
        "-----\n",
        "\n",
        "The working process looks like the following:\n",
        "- Data preparation.\n",
        "- Creating the model.\n",
        "- Training the model.\n",
        "- Testing the model."
      ]
    },
    {
      "cell_type": "code",
      "metadata": {
        "id": "ddQhWcO8_jIX",
        "colab_type": "code",
        "colab": {
          "base_uri": "https://localhost:8080/",
          "height": 34
        },
        "outputId": "14a7d5d2-ee6d-456f-e24a-c812ddca494a"
      },
      "source": [
        "from google.colab import drive\n",
        "drive.mount('/content/gdrive')"
      ],
      "execution_count": 1,
      "outputs": [
        {
          "output_type": "stream",
          "text": [
            "Drive already mounted at /content/gdrive; to attempt to forcibly remount, call drive.mount(\"/content/gdrive\", force_remount=True).\n"
          ],
          "name": "stdout"
        }
      ]
    },
    {
      "cell_type": "code",
      "metadata": {
        "id": "KSkNNNrI9ZxW",
        "colab_type": "code",
        "colab": {
          "base_uri": "https://localhost:8080/",
          "height": 79
        },
        "outputId": "5b5d21e0-7e0f-4b93-b0f1-f92ff91b619d"
      },
      "source": [
        "import pandas as pd\n",
        "import numpy as np\n",
        "import collections\n",
        "from enum import Enum\n",
        "from itertools import takewhile\n",
        "import urllib.request\n",
        "import time\n",
        "\n",
        "# Creating the model\n",
        "from keras.layers import Bidirectional, CuDNNLSTM, Dense, Dropout, TimeDistributed\n",
        "from keras.models import Sequential\n",
        "\n",
        "# Results analysis\n",
        "from sklearn.model_selection import train_test_split\n",
        "from sklearn.metrics import classification_report, confusion_matrix, f1_score"
      ],
      "execution_count": 2,
      "outputs": [
        {
          "output_type": "stream",
          "text": [
            "Using TensorFlow backend.\n"
          ],
          "name": "stderr"
        },
        {
          "output_type": "display_data",
          "data": {
            "text/html": [
              "<p style=\"color: red;\">\n",
              "The default version of TensorFlow in Colab will soon switch to TensorFlow 2.x.<br>\n",
              "We recommend you <a href=\"https://www.tensorflow.org/guide/migrate\" target=\"_blank\">upgrade</a> now \n",
              "or ensure your notebook will continue to use TensorFlow 1.x via the <code>%tensorflow_version 1.x</code> magic:\n",
              "<a href=\"https://colab.research.google.com/notebooks/tensorflow_version.ipynb\" target=\"_blank\">more info</a>.</p>\n"
            ],
            "text/plain": [
              "<IPython.core.display.HTML object>"
            ]
          },
          "metadata": {
            "tags": []
          }
        }
      ]
    },
    {
      "cell_type": "code",
      "metadata": {
        "id": "jlVCNsD2-rfa",
        "colab_type": "code",
        "colab": {}
      },
      "source": [
        "# installing tools for oversampling\n",
        "# !pip install -U imbalanced-learn"
      ],
      "execution_count": 0,
      "outputs": []
    },
    {
      "cell_type": "markdown",
      "metadata": {
        "id": "CuZXRhTYI8y7",
        "colab_type": "text"
      },
      "source": [
        "# Config"
      ]
    },
    {
      "cell_type": "code",
      "metadata": {
        "id": "8tWOkKZNBbxI",
        "colab_type": "code",
        "colab": {}
      },
      "source": [
        "class Config:\n",
        "  def __init__(self):\n",
        "    self.MAX_SEQ_LEN = 35\n",
        "    self.EMBED_DIM = 100\n",
        "    self.BATCH_SIZE = 128\n",
        "    self.EPOCHS = 10\n",
        "\n",
        "    self.N_CLASSES = 2\n",
        "    self.O_WEIGHT = 1.0\n",
        "    self.I_WEIGHT = 6.5\n",
        "    self.B_WEIGHT = 6.5\n",
        "\n",
        "    self.LSTM_UNITS = 512\n",
        "    self.DROPOUT = 0.25\n",
        "    self.OPTIMIZER = 'adam'\n",
        "    self.METRIC = 'categorical_accuracy'\n",
        "\n",
        "    self.TRAIN_URL = 'https://raw.githubusercontent.com/cicl-iscl/CyberWallE/master/data/train-data-improved-sentiwordnet-arguingfull.tsv?token=AD7GEDLFTVHGUIDOG4EDKYK57FJJY'\n",
        "    self.DEV_URL = 'https://raw.githubusercontent.com/cicl-iscl/CyberWallE/master/data/dev-improved-sentiwordnet-arguingfull.tsv?token=AD7GEDKHMNRQLNNRBNDYWJK57FJJ6'\n",
        "\n",
        "    self.EMBEDDING_PATH = 'gdrive/My Drive/colab_projects/data/glove.6B.100d.txt'"
      ],
      "execution_count": 0,
      "outputs": []
    },
    {
      "cell_type": "markdown",
      "metadata": {
        "id": "D7UDJPQ3JLeL",
        "colab_type": "text"
      },
      "source": [
        "# Input data"
      ]
    },
    {
      "cell_type": "code",
      "metadata": {
        "id": "9px5zsuDQt5_",
        "colab_type": "code",
        "colab": {}
      },
      "source": [
        "# Version for files that are not specified via a URL:\n",
        "# def get_comments(filename):\n",
        "#   with open(filename, 'r', encoding='utf8') as f:\n",
        "#     commentiter = takewhile(lambda s: s.startswith('#'), f)\n",
        "#     comments = list(commentiter)\n",
        "#   return comments\n",
        "\n",
        "def get_comments(filename):\n",
        "  comments = []\n",
        "  with urllib.request.urlopen(filename) as f:\n",
        "    for line in f:\n",
        "      if line.startswith(b'#'):\n",
        "        comments.append(line)\n",
        "      else:\n",
        "        break\n",
        "  return comments"
      ],
      "execution_count": 0,
      "outputs": []
    },
    {
      "cell_type": "code",
      "metadata": {
        "id": "TTMwJaN0Essg",
        "colab_type": "code",
        "colab": {}
      },
      "source": [
        "def get_cols(input_df, col):\n",
        "  return input_df.groupby('sent_id')[col].apply(list).to_frame()"
      ],
      "execution_count": 0,
      "outputs": []
    },
    {
      "cell_type": "code",
      "metadata": {
        "id": "tC0ApJANkvmn",
        "colab_type": "code",
        "colab": {}
      },
      "source": [
        "def add_sent_lens(input_df, col='token'):\n",
        "  input_df['n_toks'] = input_df[col].apply(lambda x: len(x))\n",
        "  return input_df"
      ],
      "execution_count": 0,
      "outputs": []
    },
    {
      "cell_type": "code",
      "metadata": {
        "id": "uKIY6wegeyKU",
        "colab_type": "code",
        "colab": {}
      },
      "source": [
        "def get_features(input_df, feature_cols):\n",
        "  x = add_sent_lens(get_cols(input_df, 'token'))\n",
        "  for feature in feature_cols:\n",
        "    x = pd.merge(left=x, right=get_cols(input_df, feature),\n",
        "                 left_on='sent_id', right_on='sent_id')\n",
        "  return x"
      ],
      "execution_count": 0,
      "outputs": []
    },
    {
      "cell_type": "code",
      "metadata": {
        "id": "GOIFqkxbHJfm",
        "colab_type": "code",
        "colab": {}
      },
      "source": [
        "def encode_x(x, word2embedding, feature_header, max_seq_len, embed_dim):\n",
        "  embedding_matrix = np.zeros([len(x),\n",
        "                               max_seq_len,\n",
        "                               embed_dim + len(feature_header)])\n",
        "  for row in x.itertuples():\n",
        "    sent_idx = row.Index - 1\n",
        "    for tok_idx in range(row.n_toks):\n",
        "      word = row.token[tok_idx]\n",
        "      embedding_matrix[sent_idx][tok_idx][:embed_dim] = \\\n",
        "        word2embedding.get(word, np.random.randn(embed_dim))\n",
        "      for i, feature in enumerate(feature_header):\n",
        "        embedding_matrix[sent_idx][tok_idx][embed_dim + i] = \\\n",
        "          getattr(row, feature)[tok_idx]\n",
        "  return embedding_matrix"
      ],
      "execution_count": 0,
      "outputs": []
    },
    {
      "cell_type": "code",
      "metadata": {
        "id": "Ee6N07KeGoZN",
        "colab_type": "code",
        "colab": {}
      },
      "source": [
        "def encode_y(y, label2idx, max_seq_len, n_classes):\n",
        "  if n_classes == 1:\n",
        "    labels = np.zeros([len(y), max_seq_len])\n",
        "  else:\n",
        "    labels = np.zeros([len(y), max_seq_len, n_classes])\n",
        "\n",
        "  for row in y.itertuples():\n",
        "    sent_idx = row.Index - 1\n",
        "    for tok_idx, label in enumerate(row.label):\n",
        "      labels[sent_idx][tok_idx] = label2idx[label]\n",
        "  return labels"
      ],
      "execution_count": 0,
      "outputs": []
    },
    {
      "cell_type": "code",
      "metadata": {
        "id": "1ORZhvz69htt",
        "colab_type": "code",
        "colab": {}
      },
      "source": [
        "def prepare_data(config, word2embedding, training):\n",
        "  # We're getting the comments this way so we can:\n",
        "  # - add them to the output\n",
        "  # - parse lines that contain '#' as the token\n",
        "  if training:\n",
        "    infile = config.TRAIN_URL\n",
        "  else:\n",
        "    infile = config.DEV_URL\n",
        "  comments = get_comments(infile)\n",
        "  df = pd.read_csv(infile, sep='\\t', skiprows=len(comments), quoting=3)\n",
        "\n",
        "  std_cols = ['document_id', 'sent_id', 'token_start',\n",
        "              'token_end', 'token', 'label']\n",
        "  feature_cols = []\n",
        "  for col in df.columns:\n",
        "    if col not in std_cols:\n",
        "      feature_cols.append(col)\n",
        "\n",
        "  x_raw = get_features(df, feature_cols)\n",
        "  x_enc = encode_x(x_raw, word2embedding, feature_cols,\n",
        "                   config.MAX_SEQ_LEN, config.EMBED_DIM)\n",
        "\n",
        "  y = None\n",
        "  sample_weight = None\n",
        "  if 'label' in df.columns:\n",
        "    y_raw = get_cols(df, 'label')\n",
        "    if config.N_CLASSES == 3:\n",
        "      label2idx = {\"O\": [1, 0, 0], \"B\": [0, 0, 1], \"I\": [0, 1, 0]}\n",
        "    elif config.N_CLASSES == 2:\n",
        "      label2idx = {\"O\": [1, 0], \"B\": [0, 1], \"I\": [0, 1]}\n",
        "    y = encode_y(y_raw, label2idx, config.MAX_SEQ_LEN, config.N_CLASSES)\n",
        "    label2weight = {'O': config.O_WEIGHT, 'I': config.I_WEIGHT,\n",
        "                    'B': config.B_WEIGHT}\n",
        "    sample_weight = encode_y(y_raw, label2weight, config.MAX_SEQ_LEN,\n",
        "                             n_classes=1)\n",
        "  \n",
        "  return df, x_raw, x_enc, sample_weight, y, comments"
      ],
      "execution_count": 0,
      "outputs": []
    },
    {
      "cell_type": "code",
      "metadata": {
        "id": "8d2WUqEnWMPi",
        "colab_type": "code",
        "colab": {}
      },
      "source": [
        "config = Config()"
      ],
      "execution_count": 0,
      "outputs": []
    },
    {
      "cell_type": "code",
      "metadata": {
        "id": "6Ab1jvz0H6hV",
        "colab_type": "code",
        "colab": {}
      },
      "source": [
        "word2embedding = {}\n",
        "f = open(config.EMBEDDING_PATH)\n",
        "for line in f:\n",
        "  values = line.split()\n",
        "  word2embedding[values[0]] = np.asarray(values[1:], dtype='float32')\n",
        "f.close()\n",
        "\n",
        "print('Found %s word vectors.' % len(word2embedding))"
      ],
      "execution_count": 0,
      "outputs": []
    },
    {
      "cell_type": "code",
      "metadata": {
        "id": "xzmv6p8heoJf",
        "colab_type": "code",
        "colab": {}
      },
      "source": [
        "_, _, train_x, sample_weight, train_y, comments = prepare_data(config,\n",
        "                                                               word2embedding,\n",
        "                                                               training=True)\n",
        "dev_df, dev_raw, dev_x, _, _, _ = prepare_data(config, word2embedding,\n",
        "                                               training=False)"
      ],
      "execution_count": 0,
      "outputs": []
    },
    {
      "cell_type": "code",
      "metadata": {
        "id": "4mPJx2gI0f5j",
        "colab_type": "code",
        "colab": {}
      },
      "source": [
        "print(train_x.shape)\n",
        "print(dev_x.shape)\n",
        "print(train_y.shape)\n",
        "print(sample_weight[2])\n",
        "dev_raw.head()"
      ],
      "execution_count": 0,
      "outputs": []
    },
    {
      "cell_type": "markdown",
      "metadata": {
        "id": "HboCSN-CJPrH",
        "colab_type": "text"
      },
      "source": [
        "# Model"
      ]
    },
    {
      "cell_type": "code",
      "metadata": {
        "id": "KuzEvEcGI1xd",
        "colab_type": "code",
        "colab": {}
      },
      "source": [
        "def get_bilstm(input_shape, config):\n",
        "  model = Sequential()\n",
        "  model.add(Bidirectional(CuDNNLSTM(config.LSTM_UNITS, return_sequences=True),\n",
        "                          input_shape=input_shape))\n",
        "  model.add(Dropout(config.DROPOUT))\n",
        "  model.add(TimeDistributed(Dense(config.N_CLASSES, activation='softmax')))\n",
        "  model.compile(loss='categorical_crossentropy',\n",
        "                optimizer=config.OPTIMIZER,\n",
        "                metrics=[config.METRIC],\n",
        "                sample_weight_mode='temporal')\n",
        "  return model"
      ],
      "execution_count": 0,
      "outputs": []
    },
    {
      "cell_type": "code",
      "metadata": {
        "id": "VwW0XSaMJwZN",
        "colab_type": "code",
        "colab": {}
      },
      "source": [
        "model = get_bilstm(train_x.shape[1:], config)\n",
        "print(model.summary())"
      ],
      "execution_count": 0,
      "outputs": []
    },
    {
      "cell_type": "code",
      "metadata": {
        "id": "TXQH38939TCJ",
        "colab_type": "code",
        "colab": {}
      },
      "source": [
        "history = model.fit(train_x, train_y,\n",
        "                    epochs=config.EPOCHS,\n",
        "                    batch_size=config.BATCH_SIZE,\n",
        "                    verbose=1,\n",
        "                    validation_split=0.1,\n",
        "                    sample_weight=sample_weight)"
      ],
      "execution_count": 0,
      "outputs": []
    },
    {
      "cell_type": "markdown",
      "metadata": {
        "id": "SLY5LLDu-aGd",
        "colab_type": "text"
      },
      "source": [
        "# Predictions"
      ]
    },
    {
      "cell_type": "code",
      "metadata": {
        "id": "mxSwb0CM_Gnk",
        "colab_type": "code",
        "colab": {}
      },
      "source": [
        "def get_predictions(model, x, x_raw, n_classes):\n",
        "  y_hat = model.predict(x)\n",
        "  y_hat = y_hat.reshape(-1, n_classes).argmax(axis=1).reshape(dev_x.shape[:2])\n",
        "  labels = []\n",
        "  for row in x_raw.itertuples():\n",
        "    sent_idx = row.Index - 1\n",
        "    for tok_idx in range(row.n_toks):\n",
        "      if y_hat[sent_idx][tok_idx] == 0:\n",
        "        label = \"O\"\n",
        "      elif y_hat[sent_idx][tok_idx] == 1:\n",
        "        label = \"I\"\n",
        "      else:\n",
        "        label = \"B\"\n",
        "      labels.append(label)\n",
        "  return labels"
      ],
      "execution_count": 0,
      "outputs": []
    },
    {
      "cell_type": "code",
      "metadata": {
        "id": "uLVudMQZBm_J",
        "colab_type": "code",
        "colab": {}
      },
      "source": [
        "y_hat = get_predictions(model, dev_x, dev_raw, config.N_CLASSES)\n",
        "result_df = pd.concat([dev_df, pd.DataFrame(y_hat, columns=['label'])],\n",
        "                      axis=1, sort=False)"
      ],
      "execution_count": 0,
      "outputs": []
    },
    {
      "cell_type": "code",
      "metadata": {
        "id": "ReEg19naJJBd",
        "colab_type": "code",
        "colab": {}
      },
      "source": [
        "print(result_df['label'].value_counts())\n",
        "result_df.head()"
      ],
      "execution_count": 0,
      "outputs": []
    },
    {
      "cell_type": "code",
      "metadata": {
        "id": "eCKd5VK7SswK",
        "colab_type": "code",
        "colab": {}
      },
      "source": [
        "now = int(time.time())\n",
        "outfile = 'dev_labels_' + str(now) + '.tsv'"
      ],
      "execution_count": 0,
      "outputs": []
    },
    {
      "cell_type": "code",
      "metadata": {
        "id": "M9fMlY7BMyWH",
        "colab_type": "code",
        "colab": {}
      },
      "source": [
        "# Add call to label->span conversion ?\n",
        "# And use a separate log file?\n",
        "\n",
        "with open(outfile, mode='wb') as f:\n",
        "  for comment in comments:\n",
        "    f.write(comment)\n",
        "with open(outfile, mode='a') as f:\n",
        "  f.write('# Validation_' + config.METRIC + '=' + \\\n",
        "              str(history.history['val_' + config.METRIC]) + '\\n')\n",
        "\n",
        "result_df.to_csv(path_or_buf=outfile, sep='\\t',\n",
        "                 mode='a', index=False)"
      ],
      "execution_count": 0,
      "outputs": []
    }
  ]
}