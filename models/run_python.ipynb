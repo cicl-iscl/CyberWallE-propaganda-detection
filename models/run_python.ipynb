{
  "nbformat": 4,
  "nbformat_minor": 0,
  "metadata": {
    "colab": {
      "name": "run_python.ipynb",
      "provenance": []
    },
    "kernelspec": {
      "name": "python3",
      "display_name": "Python 3"
    },
    "accelerator": "GPU"
  },
  "cells": [
    {
      "cell_type": "code",
      "metadata": {
        "id": "QO5kbRdWZO5V",
        "colab_type": "code",
        "colab": {}
      },
      "source": [
        "from google.colab import drive\n",
        "drive.mount('/content/gdrive')\n",
        "\n",
        "!python gdrive/My\\ Drive/Colab\\ Notebooks/grid_search.py"
      ],
      "execution_count": 0,
      "outputs": []
    }
  ]
}